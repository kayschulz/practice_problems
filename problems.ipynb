{
 "cells": [
  {
   "cell_type": "markdown",
   "metadata": {},
   "source": [
    "# Problem 1\n",
    "Below is a daily table for an active accounts at Shopify (an online ecommerce, retail platform).\n",
    "\n",
    "The table is called store_account and the columns are:\n",
    "\n",
    "Column Name\tData Type\tDescription\n",
    "\n",
    "- store_id\t|  integer\t|   a unique Shopify store id\n",
    "- date      |  string\t|   date\n",
    "- status\t|  string\t|   Possible values are: [‘open’, 'closed’, ‘fraud’]\n",
    "- revenue\t|  double\t|   Amount of spend in USD\n",
    "\n",
    "Here's some more information about the table:\n",
    "\n",
    "The granularity of the table is store_id and day\n",
    "\n",
    "Assume “close” and “fraud” are permanent labels\n",
    "\n",
    "Active = daily revenue > 0\n",
    "\n",
    "Accounts get labeled by Shopify as fraudulent and they no longer can sell product\n",
    "\n",
    "Every day of the table has every store_id that has ever been used by Shopify\n",
    "\n",
    "Given the above, what percent of active stores were fraudulent by day? "
   ]
  },
  {
   "cell_type": "markdown",
   "metadata": {},
   "source": [
    "## Thoughts\n",
    "\n",
    "We want to group the stores by day, then revenues, then measure number of frauds.\n",
    "\n",
    "## Answer"
   ]
  },
  {
   "cell_type": "code",
   "execution_count": null,
   "metadata": {},
   "outputs": [],
   "source": [
    "# assume that the table is a pandas table called accounts\n",
    "\n",
    "# create a df for just the active accounts\n",
    "active_accounts = accounts.loc[accounts['revenue'] > 0]\n",
    "\n",
    "# create a binary column for fraud\n",
    "active_accounts['fraud'] = active_accounts['status'] = 'fraud'\n",
    "\n",
    "# group by the date then take the mean which will give the percentage\n",
    "percentage = active_accounts.groupby('date').fraud.mean()*100"
   ]
  },
  {
   "cell_type": "markdown",
   "metadata": {},
   "source": [
    "# Problem 2\n",
    "\n",
    "You are give a list of numbers J and a single number p.\n",
    "Write a function to return the minimum and maximum averages of the sequences of p numbers in J.\n",
    "\n",
    "Example:\n",
    "\n",
    "J = [4, 4, 4, 9, 10, 11, 12]\n",
    "p = 3\n",
    "\n",
    "The sequences will be:\n",
    "\n",
    "- (4, 4, 4)\n",
    "- (4, 4, 9)\n",
    "- (4, 9, 10)\n",
    "- (9, 10, 11)\n",
    "- (10, 11, 12)\n",
    "\n",
    "Here the minimum average will be 4 and the maximum average will be 11, which cooresponds to the first and last sequences. "
   ]
  },
  {
   "cell_type": "markdown",
   "metadata": {},
   "source": [
    "## Thoughts\n",
    "\n",
    "The example is in numerical order, but it should not be assumed that the first and last set of sequences are the minimum and maximum averages.\n",
    "\n",
    "It should be assumed that p will be less than or equal to the length of J\n",
    "\n",
    "## Answer"
   ]
  },
  {
   "cell_type": "code",
   "execution_count": 1,
   "metadata": {},
   "outputs": [],
   "source": [
    "J = [4, 4, 4, 9, 10, 11, 12]\n",
    "p = 3"
   ]
  },
  {
   "cell_type": "code",
   "execution_count": 7,
   "metadata": {},
   "outputs": [],
   "source": [
    "def get_sequences_and_averages(J, p):\n",
    "    # set the averages to that of the first sequence\n",
    "    min_average = sum(J[0:p]) / p\n",
    "    max_average = sum(J[0:p]) / p\n",
    "    min_sequence = J[0:p]\n",
    "    max_sequence = J[0:p]\n",
    "    \n",
    "    x = 0\n",
    "    # figure out the something\n",
    "    while x + p <= len(J):\n",
    "        sequence = J[x:x + p]\n",
    "        print(sequence)\n",
    "        x += 1\n",
    "        average = sum(sequence) / p\n",
    "        if average < min_average:\n",
    "            min_average = average\n",
    "            min_sequence = sequence\n",
    "        elif average > max_average:\n",
    "            max_average = average\n",
    "            max_sequence = sequence\n",
    "    \n",
    "    print(f\"Minimum average is {min_average} for sequence {min_sequence}\")\n",
    "    print(f\"Maximum average is {max_average} for sequence {max_sequence}\")\n",
    "    "
   ]
  },
  {
   "cell_type": "code",
   "execution_count": 8,
   "metadata": {},
   "outputs": [
    {
     "name": "stdout",
     "output_type": "stream",
     "text": [
      "[4, 4, 4]\n",
      "[4, 4, 9]\n",
      "[4, 9, 10]\n",
      "[9, 10, 11]\n",
      "[10, 11, 12]\n",
      "Minimum average is 4.0 for sequence [4, 4, 4]\n",
      "Maximum average is 11.0 for sequence [10, 11, 12]\n"
     ]
    }
   ],
   "source": [
    "# test the example\n",
    "get_sequences_and_averages(J,p)"
   ]
  },
  {
   "cell_type": "code",
   "execution_count": 9,
   "metadata": {},
   "outputs": [
    {
     "name": "stdout",
     "output_type": "stream",
     "text": [
      "[4, 8, 1, 6]\n",
      "[8, 1, 6, 2]\n",
      "[1, 6, 2, 9]\n",
      "[6, 2, 9, 0]\n",
      "[2, 9, 0, -1]\n",
      "[9, 0, -1, 5]\n",
      "[0, -1, 5, -100]\n",
      "Minimum average is -24.0 for sequence [0, -1, 5, -100]\n",
      "Maximum average is 4.75 for sequence [4, 8, 1, 6]\n"
     ]
    }
   ],
   "source": [
    "# since it worked the way I expected, let us try another test\n",
    "K = [4, 8, 1, 6, 2, 9, 0, -1, 5, -100]\n",
    "r = 4\n",
    "\n",
    "get_sequences_and_averages(K, r)"
   ]
  },
  {
   "cell_type": "code",
   "execution_count": 11,
   "metadata": {},
   "outputs": [
    {
     "name": "stdout",
     "output_type": "stream",
     "text": [
      "[0, 0]\n",
      "[0, 8]\n",
      "[8, 9]\n",
      "[9, -9]\n",
      "[-9, 0]\n",
      "[0, 0]\n",
      "Minimum average is -4.5 for sequence [-9, 0]\n",
      "Maximum average is 8.5 for sequence [8, 9]\n"
     ]
    }
   ],
   "source": [
    "L = [0, 0, 8, 9, -9, 0, 0]\n",
    "s = 2\n",
    "\n",
    "get_sequences_and_averages(L, s)"
   ]
  },
  {
   "cell_type": "code",
   "execution_count": null,
   "metadata": {},
   "outputs": [],
   "source": []
  }
 ],
 "metadata": {
  "kernelspec": {
   "display_name": "Python 3",
   "language": "python",
   "name": "python3"
  },
  "language_info": {
   "codemirror_mode": {
    "name": "ipython",
    "version": 3
   },
   "file_extension": ".py",
   "mimetype": "text/x-python",
   "name": "python",
   "nbconvert_exporter": "python",
   "pygments_lexer": "ipython3",
   "version": "3.6.9"
  }
 },
 "nbformat": 4,
 "nbformat_minor": 2
}
