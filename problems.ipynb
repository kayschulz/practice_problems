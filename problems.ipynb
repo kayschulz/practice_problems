{
 "cells": [
  {
   "cell_type": "markdown",
   "metadata": {},
   "source": [
    "# Problem 1\n",
    "Below is a daily table for an active accounts at Shopify (an online ecommerce, retail platform).\n",
    "\n",
    "The table is called store_account and the columns are:\n",
    "\n",
    "Column Name\tData Type\tDescription\n",
    "\n",
    "- store_id\t|  integer\t|   a unique Shopify store id\n",
    "- date      |  string\t|   date\n",
    "- status\t|  string\t|   Possible values are: [‘open’, 'closed’, ‘fraud’]\n",
    "- revenue\t|  double\t|   Amount of spend in USD\n",
    "\n",
    "Here's some more information about the table:\n",
    "\n",
    "The granularity of the table is store_id and day\n",
    "\n",
    "Assume “close” and “fraud” are permanent labels\n",
    "\n",
    "Active = daily revenue > 0\n",
    "\n",
    "Accounts get labeled by Shopify as fraudulent and they no longer can sell product\n",
    "\n",
    "Every day of the table has every store_id that has ever been used by Shopify\n",
    "\n",
    "Given the above, what percent of active stores were fraudulent by day? "
   ]
  },
  {
   "cell_type": "markdown",
   "metadata": {},
   "source": [
    "## Thoughts\n",
    "\n",
    "We want to group the stores by day, then revenues, then measure number of frauds.\n",
    "\n",
    "## Answer"
   ]
  },
  {
   "cell_type": "code",
   "execution_count": null,
   "metadata": {},
   "outputs": [],
   "source": [
    "# assume that the table is a pandas table called accounts\n",
    "\n",
    "# create a df for just the active accounts\n",
    "active_accounts = accounts.loc[accounts['revenue'] > 0]\n",
    "\n",
    "# create a binary column for fraud\n",
    "active_accounts['fraud'] = active_accounts['status'] = 'fraud'\n",
    "\n",
    "# group by the date then take the mean which will give the percentage\n",
    "percentage = active_accounts.groupby('date').fraud.mean()*100"
   ]
  }
 ],
 "metadata": {
  "kernelspec": {
   "display_name": "Python 3",
   "language": "python",
   "name": "python3"
  },
  "language_info": {
   "codemirror_mode": {
    "name": "ipython",
    "version": 3
   },
   "file_extension": ".py",
   "mimetype": "text/x-python",
   "name": "python",
   "nbconvert_exporter": "python",
   "pygments_lexer": "ipython3",
   "version": "3.6.9"
  }
 },
 "nbformat": 4,
 "nbformat_minor": 2
}
